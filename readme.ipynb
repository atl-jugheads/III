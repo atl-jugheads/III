{
 "cells": [
  {
   "cell_type": "markdown",
   "metadata": {
    "slideshow": {
     "slide_type": "slide"
    }
   },
   "source": [
    "# [Jupyter User Group Meeting III](https://www.meetup.com/Atlanta-Jupyter-User-Group/events/246623197/)\n",
    "\n",
    "* [Github]()\n",
    "* [Nbviewer](http://nbviewer.jupyter.org/github/atl-jugheads/III/blob/master/readme.ipynb)\n",
    "\n",
    "\n",
    "# Contact\n",
    "\n",
    "* Tony Fast - @docfast\n",
    "* Luke Starnes - @slstarnes"
   ]
  },
  {
   "cell_type": "markdown",
   "metadata": {
    "slideshow": {
     "slide_type": "slide"
    }
   },
   "source": [
    "# [Gitter](https://gitter.im/atl-jugheads/Lobby)\n",
    "\n",
    "The Jupyter User Group uses __Gitter__ during each meeting to record information, comments, and questions.  \n",
    "\n",
    "> We ask the speakers to open \n",
    "__Gitter__ in their browser and [enable notifications](https://gitter.zendesk.com/hc/en-us/articles/210265505-Notifications);\n",
    "this way the audience can interact with the speaker during their talk."
   ]
  },
  {
   "cell_type": "markdown",
   "metadata": {
    "scrolled": false,
    "slideshow": {
     "slide_type": "-"
    }
   },
   "source": [
    "# [Code of Conduct](CODE_OF_CONDUCT.md)"
   ]
  },
  {
   "cell_type": "code",
   "execution_count": 1,
   "metadata": {},
   "outputs": [
    {
     "name": "stdout",
     "output_type": "stream",
     "text": [
      "[NbConvertApp] Converting notebook readme.ipynb to markdown\n",
      "[NbConvertApp] Writing 766 bytes to readme.md\n"
     ]
    }
   ],
   "source": [
    "!jupyter nbconvert --to markdown readme.ipynb"
   ]
  }
 ],
 "metadata": {
  "celltoolbar": "Slideshow",
  "kernelspec": {
   "display_name": "p6",
   "language": "python",
   "name": "other-env"
  },
  "language_info": {
   "codemirror_mode": {
    "name": "ipython",
    "version": 3
   },
   "file_extension": ".py",
   "mimetype": "text/x-python",
   "name": "python",
   "nbconvert_exporter": "python",
   "pygments_lexer": "ipython3",
   "version": "3.6.3"
  }
 },
 "nbformat": 4,
 "nbformat_minor": 2
}
