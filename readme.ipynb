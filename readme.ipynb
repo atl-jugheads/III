{
 "cells": [
  {
   "cell_type": "code",
   "execution_count": 11,
   "metadata": {},
   "outputs": [
    {
     "data": {
      "text/markdown": [
       "    %reload_ext literacy"
      ],
      "text/plain": [
       "<IPython.core.display.Markdown object>"
      ]
     },
     "metadata": {},
     "output_type": "display_data"
    }
   ],
   "source": [
    "    %reload_ext literacy"
   ]
  },
  {
   "cell_type": "code",
   "execution_count": 22,
   "metadata": {},
   "outputs": [
    {
     "data": {
      "text/markdown": [
       "    ---\n",
       "    ref:\n",
       "        coc: https://github.com/atl-jugheads/III/blob/master/CODE_OF_CONDUCT.md\n",
       "        coc_raw: https://cdn.rawgit.com/atl-jugheads/III/60340717/CODE_OF_CONDUCT.md\n",
       "        meetup: https://www.meetup.com/Atlanta-Jupyter-User-Group/events/246623197/        \n",
       "        gitter: https://gitter.im/atl-jugheads/Lobby"
      ],
      "text/plain": [
       "<IPython.core.display.Markdown object>"
      ]
     },
     "metadata": {},
     "output_type": "display_data"
    }
   ],
   "source": [
    "    ---\n",
    "    ref:\n",
    "        coc: https://github.com/atl-jugheads/III/blob/master/CODE_OF_CONDUCT.md\n",
    "        coc_raw: https://cdn.rawgit.com/atl-jugheads/III/60340717/CODE_OF_CONDUCT.md\n",
    "        meetup: https://www.meetup.com/Atlanta-Jupyter-User-Group/events/246623197/        \n",
    "        gitter: https://gitter.im/atl-jugheads/Lobby"
   ]
  },
  {
   "cell_type": "code",
   "execution_count": 23,
   "metadata": {
    "slideshow": {
     "slide_type": "slide"
    }
   },
   "outputs": [
    {
     "data": {
      "text/markdown": [
       "# [Jupyter User Group Meeting III](https://www.meetup.com/Atlanta-Jupyter-User-Group/events/246623197/)"
      ],
      "text/plain": [
       "<IPython.core.display.Markdown object>"
      ]
     },
     "metadata": {},
     "output_type": "display_data"
    },
    {
     "data": {
      "text/html": [
       "\n",
       "        <iframe\n",
       "            width=\"600\"\n",
       "            height=\"400\"\n",
       "            src=\"https://www.meetup.com/Atlanta-Jupyter-User-Group/events/246623197/\"\n",
       "            frameborder=\"0\"\n",
       "            allowfullscreen\n",
       "        ></iframe>\n",
       "        "
      ],
      "text/plain": [
       "<IPython.lib.display.IFrame at 0x10c2fca58>"
      ]
     },
     "metadata": {},
     "output_type": "display_data"
    }
   ],
   "source": [
    "# [Jupyter User Group Meeting III]({{ref['meetup']}})"
   ]
  },
  {
   "cell_type": "code",
   "execution_count": 24,
   "metadata": {
    "slideshow": {
     "slide_type": "subslide"
    }
   },
   "outputs": [
    {
     "data": {
      "text/markdown": [
       "# III\n",
       "\n",
       "* [Github]()\n",
       "* [Nbviewer](http://nbviewer.jupyter.org/github/atl-jugheads/III/blob/master/readme.ipynb)\n",
       "\n",
       "\n",
       "# Contact\n",
       "\n",
       "* Tony Fast - @docfast\n",
       "* Luke Starnes - @slstarnes"
      ],
      "text/plain": [
       "<IPython.core.display.Markdown object>"
      ]
     },
     "metadata": {},
     "output_type": "display_data"
    }
   ],
   "source": [
    "# III\n",
    "\n",
    "* [Github]()\n",
    "* [Nbviewer](http://nbviewer.jupyter.org/github/atl-jugheads/III/blob/master/readme.ipynb)\n",
    "\n",
    "\n",
    "# Contact\n",
    "\n",
    "* Tony Fast - @docfast\n",
    "* Luke Starnes - @slstarnes"
   ]
  },
  {
   "cell_type": "code",
   "execution_count": 25,
   "metadata": {
    "slideshow": {
     "slide_type": "slide"
    }
   },
   "outputs": [
    {
     "data": {
      "text/markdown": [
       "# [Gitter](https://en.wikipedia.org/wiki/Gitter)\n",
       "\n",
       "The Jupyter User Group uses __Gitter__ during each meeting to record information, comments, and questions.  \n",
       "\n",
       "> We ask the speakers to open \n",
       "__Gitter__ in their browser and [enable notifications](https://gitter.zendesk.com/hc/en-us/articles/210265505-Notifications);\n",
       "this way the audience can interact with the speaker during their talk."
      ],
      "text/plain": [
       "<IPython.core.display.Markdown object>"
      ]
     },
     "metadata": {},
     "output_type": "display_data"
    }
   ],
   "source": [
    "# [Gitter](https://en.wikipedia.org/wiki/Gitter)\n",
    "\n",
    "The Jupyter User Group uses __Gitter__ during each meeting to record information, comments, and questions.  \n",
    "\n",
    "> We ask the speakers to open \n",
    "__Gitter__ in their browser and [enable notifications](https://gitter.zendesk.com/hc/en-us/articles/210265505-Notifications);\n",
    "this way the audience can interact with the speaker during their talk."
   ]
  },
  {
   "cell_type": "code",
   "execution_count": 28,
   "metadata": {},
   "outputs": [
    {
     "data": {
      "text/html": [
       "\n",
       "        <iframe\n",
       "            width=\"600\"\n",
       "            height=\"400\"\n",
       "            src=\"https://gitter.im/atl-jugheads/Lobby\"\n",
       "            frameborder=\"0\"\n",
       "            allowfullscreen\n",
       "        ></iframe>\n",
       "        "
      ],
      "text/plain": [
       "<IPython.lib.display.IFrame at 0x10c302668>"
      ]
     },
     "metadata": {},
     "output_type": "display_data"
    }
   ],
   "source": [
    "{{ref['gitter']}}"
   ]
  },
  {
   "cell_type": "markdown",
   "metadata": {},
   "source": [
    "# WIFI\n",
    "\n"
   ]
  },
  {
   "cell_type": "code",
   "execution_count": 39,
   "metadata": {
    "scrolled": false,
    "slideshow": {
     "slide_type": "-"
    }
   },
   "outputs": [
    {
     "data": {
      "text/markdown": [
       "    __import__('IPython').display.Markdown(\"https://cdn.rawgit.com/atl-jugheads/III/60340717/CODE_OF_CONDUCT.md\")"
      ],
      "text/plain": [
       "<IPython.core.display.Markdown object>"
      ]
     },
     "metadata": {},
     "output_type": "display_data"
    },
    {
     "data": {
      "text/markdown": [
       "# Code of Conduct\n",
       "\n",
       "## 1. Purpose\n",
       "\n",
       "A primary goal of the Atlanta Jupyter User Group is to be inclusive to the largest number of contributors, with the most varied and diverse backgrounds possible. As such, we are committed to providing a friendly, safe and welcoming environment for all, regardless of gender, sexual orientation, ability, ethnicity, socioeconomic status, and religion (or lack thereof).\n",
       "\n",
       "This code of conduct outlines our expectations for all those who participate in our community, as well as the consequences for unacceptable behavior.\n",
       "\n",
       "We invite all those who participate in the Atlanta Jupyter User Group to help us create safe and positive experiences for everyone.\n",
       "\n",
       "## 2. Open Source Citizenship\n",
       "\n",
       "A supplemental goal of this Code of Conduct is to increase open source citizenship by encouraging participants to recognize and strengthen the relationships between our actions and their effects on our community.\n",
       "\n",
       "Communities mirror the societies in which they exist and positive action is essential to counteract the many forms of inequality and abuses of power that exist in society.\n",
       "\n",
       "If you see someone who is making an extra effort to ensure our community is welcoming, friendly, and encourages all participants to contribute to the fullest extent, we want to know.\n",
       "\n",
       "## 3. Expected Behavior\n",
       "\n",
       "The following behaviors are expected and requested of all community members:\n",
       "\n",
       "*   Participate in an authentic and active way. In doing so, you contribute to the health and longevity of this community.\n",
       "*   Exercise consideration and respect in your speech and actions.\n",
       "*   Attempt collaboration before conflict.\n",
       "*   Refrain from demeaning, discriminatory, or harassing behavior and speech.\n",
       "*   Be mindful of your surroundings and of your fellow participants. Alert community leaders if you notice a dangerous situation, someone in distress, or violations of this Code of Conduct, even if they seem inconsequential.\n",
       "*   Remember that community event venues may be shared with members of the public; please be respectful to all patrons of these locations.\n",
       "\n",
       "## 4. Unacceptable Behavior\n",
       "\n",
       "The following behaviors are considered harassment and are unacceptable within our community:\n",
       "\n",
       "*   Violence, threats of violence or violent language directed against another person.\n",
       "*   Sexist, racist, homophobic, transphobic, ableist or otherwise discriminatory jokes and language.\n",
       "*   Posting or displaying sexually explicit or violent material.\n",
       "*   Posting or threatening to post other people’s personally identifying information (\"doxing\").\n",
       "*   Personal insults, particularly those related to gender, sexual orientation, race, religion, or disability.\n",
       "*   Inappropriate photography or recording.\n",
       "*   Inappropriate physical contact. You should have someone’s consent before touching them.\n",
       "*   Unwelcome sexual attention. This includes, sexualized comments or jokes; inappropriate touching, groping, and unwelcomed sexual advances.\n",
       "*   Deliberate intimidation, stalking or following (online or in person).\n",
       "*   Advocating for, or encouraging, any of the above behavior.\n",
       "*   Sustained disruption of community events, including talks and presentations.\n",
       "\n",
       "## 5. Consequences of Unacceptable Behavior\n",
       "\n",
       "Unacceptable behavior from any community member, including sponsors and those with decision-making authority, will not be tolerated.\n",
       "\n",
       "Anyone asked to stop unacceptable behavior is expected to comply immediately.\n",
       "\n",
       "If a community member engages in unacceptable behavior, the community organizers may take any action they deem appropriate, up to and including a temporary ban or permanent expulsion from the community without warning (and without refund in the case of a paid event).\n",
       "\n",
       "## 6. Reporting Guidelines\n",
       "\n",
       "If you are subject to or witness unacceptable behavior, or have any other concerns, please notify a community organizer as soon as possible. tony.fast@gmail.com.\n",
       "\n",
       "\n",
       "\n",
       "Additionally, community organizers are available to help community members engage with local law enforcement or to otherwise help those experiencing unacceptable behavior feel safe. In the context of in-person events, organizers will also provide escorts as desired by the person experiencing distress.\n",
       "\n",
       "## 7. Addressing Grievances\n",
       "\n",
       "If you feel you have been falsely or unfairly accused of violating this Code of Conduct, you should notify the Atlanta Jupyter User Group with a concise description of your grievance. Your grievance will be handled in accordance with our existing governing policies.\n",
       "\n",
       "\n",
       "\n",
       "## 8. Scope\n",
       "\n",
       "We expect all community participants (contributors, paid or otherwise; sponsors; and other guests) to abide by this Code of Conduct in all community venues–online and in-person–as well as in all one-on-one communications pertaining to community business.\n",
       "\n",
       "This code of conduct and its related procedures also applies to unacceptable behavior occurring outside the scope of community activities when such behavior has the potential to adversely affect the safety and well-being of community members.\n",
       "\n",
       "## 9. Contact info\n",
       "\n",
       "tony.fast@gmail.com\n",
       "\n",
       "## 10. License and attribution\n",
       "\n",
       "This Code of Conduct is distributed under a [Creative Commons Attribution-ShareAlike license](http://creativecommons.org/licenses/by-sa/3.0/).\n",
       "\n",
       "Portions of text derived from the [Django Code of Conduct](https://www.djangoproject.com/conduct/) and the [Geek Feminism Anti-Harassment Policy](http://geekfeminism.wikia.com/wiki/Conference_anti-harassment/Policy).\n",
       "\n",
       "Retrieved on November 22, 2016 from [http://citizencodeofconduct.org/](http://citizencodeofconduct.org/)\n"
      ],
      "text/plain": [
       "<IPython.core.display.Markdown object>"
      ]
     },
     "execution_count": 39,
     "metadata": {},
     "output_type": "execute_result"
    }
   ],
   "source": [
    "    __import__('IPython').display.Markdown(\"{{ref['coc_raw']}}\")"
   ]
  },
  {
   "cell_type": "code",
   "execution_count": 43,
   "metadata": {
    "slideshow": {
     "slide_type": "subslide"
    }
   },
   "outputs": [
    {
     "data": {
      "text/markdown": [
       "# [The Code of Conduct on Github](https://github.com/atl-jugheads/III/blob/master/CODE_OF_CONDUCT.md)\n",
       "\n",
       " "
      ],
      "text/plain": [
       "<IPython.core.display.Markdown object>"
      ]
     },
     "metadata": {},
     "output_type": "display_data"
    }
   ],
   "source": [
    "# [The Code of Conduct on Github]({{ref['coc']}})\n",
    "\n",
    " "
   ]
  },
  {
   "cell_type": "code",
   "execution_count": 46,
   "metadata": {
    "slideshow": {
     "slide_type": "slide"
    }
   },
   "outputs": [
    {
     "data": {
      "text/markdown": [
       "# Who are we\n",
       "\n",
       "The Atlanta Jupyter User Group is a local community of designers, developers and scientists using Jupyter notebooks.\n",
       "\n",
       "The user group meetings are afforable events that host 40-50 Jupyter users from the nearby Atlanta Metro Area. They will attract designers, developers, and scientists solving problems in applications that include:\n",
       "\n",
       "* Education and training\n",
       "* Public health, medicine, and bioinformatics\n",
       "* Math, Science and, Engineering\n",
       "* Art, music, and making\n",
       "* Journalism, law, and policy\n",
       "* Visualization, UI, and UX"
      ],
      "text/plain": [
       "<IPython.core.display.Markdown object>"
      ]
     },
     "metadata": {},
     "output_type": "display_data"
    }
   ],
   "source": [
    "# Who are we\n",
    "\n",
    "The Atlanta Jupyter User Group is a local community of designers, developers and scientists using Jupyter notebooks.\n",
    "\n",
    "The user group meetings are afforable events that host 40-50 Jupyter users from the nearby Atlanta Metro Area. They will attract designers, developers, and scientists solving problems in applications that include:\n",
    "\n",
    "* Education and training\n",
    "* Public health, medicine, and bioinformatics\n",
    "* Math, Science and, Engineering\n",
    "* Art, music, and making\n",
    "* Journalism, law, and policy\n",
    "* Visualization, UI, and UX"
   ]
  },
  {
   "cell_type": "code",
   "execution_count": 45,
   "metadata": {
    "slideshow": {
     "slide_type": "slide"
    }
   },
   "outputs": [
    {
     "data": {
      "text/markdown": [
       "# [What is Jupyter](http://jupyter.org/about)"
      ],
      "text/plain": [
       "<IPython.core.display.Markdown object>"
      ]
     },
     "metadata": {},
     "output_type": "display_data"
    },
    {
     "data": {
      "text/html": [
       "\n",
       "        <iframe\n",
       "            width=\"600\"\n",
       "            height=\"400\"\n",
       "            src=\"http://jupyter.org/about\"\n",
       "            frameborder=\"0\"\n",
       "            allowfullscreen\n",
       "        ></iframe>\n",
       "        "
      ],
      "text/plain": [
       "<IPython.lib.display.IFrame at 0x10c314d30>"
      ]
     },
     "metadata": {},
     "output_type": "display_data"
    }
   ],
   "source": [
    "# [What is Jupyter](http://jupyter.org/about)"
   ]
  },
  {
   "cell_type": "code",
   "execution_count": 53,
   "metadata": {
    "slideshow": {
     "slide_type": "subslide"
    }
   },
   "outputs": [
    {
     "data": {
      "text/markdown": [
       "    df = __import__('pandas').read_html('https://github.com/jupyter/jupyter/wiki/Jupyter-kernels')[0]\n",
       "    print(f\"There are {len(df)} Jupyter kernels\")"
      ],
      "text/plain": [
       "<IPython.core.display.Markdown object>"
      ]
     },
     "metadata": {},
     "output_type": "display_data"
    },
    {
     "name": "stdout",
     "output_type": "stream",
     "text": [
      "There are 103 Jupyter kernels\n"
     ]
    }
   ],
   "source": [
    "    df = __import__('pandas').read_html('https://github.com/jupyter/jupyter/wiki/Jupyter-kernels')[0]\n",
    "    print(f\"There are {len(df)} Jupyter kernels\")"
   ]
  },
  {
   "cell_type": "code",
   "execution_count": 55,
   "metadata": {
    "slideshow": {
     "slide_type": "-"
    }
   },
   "outputs": [
    {
     "data": {
      "text/html": [
       "<div>\n",
       "<style>\n",
       "    .dataframe thead tr:only-child th {\n",
       "        text-align: right;\n",
       "    }\n",
       "\n",
       "    .dataframe thead th {\n",
       "        text-align: left;\n",
       "    }\n",
       "\n",
       "    .dataframe tbody tr th {\n",
       "        vertical-align: top;\n",
       "    }\n",
       "</style>\n",
       "<table border=\"1\" class=\"dataframe\">\n",
       "  <thead>\n",
       "    <tr style=\"text-align: right;\">\n",
       "      <th></th>\n",
       "      <th>Name</th>\n",
       "      <th>Jupyter/IPython Version</th>\n",
       "      <th>Language(s) Version</th>\n",
       "      <th>3rd party dependencies</th>\n",
       "      <th>Example Notebooks</th>\n",
       "      <th>Notes</th>\n",
       "    </tr>\n",
       "  </thead>\n",
       "  <tbody>\n",
       "    <tr>\n",
       "      <th>0</th>\n",
       "      <td>Coarray-Fortran</td>\n",
       "      <td>Jupyter 4.0</td>\n",
       "      <td>Fortran 2008/2015</td>\n",
       "      <td>GFortran &gt;= 7.1, OpenCoarrays, MPICH &gt;= 3.2</td>\n",
       "      <td>Demo, Binder demo</td>\n",
       "      <td>Docker image</td>\n",
       "    </tr>\n",
       "    <tr>\n",
       "      <th>1</th>\n",
       "      <td>sparkmagic</td>\n",
       "      <td>Jupyter &gt;=4.0</td>\n",
       "      <td>Pyspark (Python 2 &amp; 3), Spark (Scala), SparkR (R)</td>\n",
       "      <td>Livy</td>\n",
       "      <td>Notebooks, Docker Images</td>\n",
       "      <td>This kernels are implemented via the magics ma...</td>\n",
       "    </tr>\n",
       "    <tr>\n",
       "      <th>2</th>\n",
       "      <td>sas_kernel</td>\n",
       "      <td>Jupyter 4.0</td>\n",
       "      <td>python &gt;= 3.3</td>\n",
       "      <td>SAS 9.4 or higher</td>\n",
       "      <td>NaN</td>\n",
       "      <td>NaN</td>\n",
       "    </tr>\n",
       "    <tr>\n",
       "      <th>3</th>\n",
       "      <td>IPyKernel</td>\n",
       "      <td>Jupyter 4.0</td>\n",
       "      <td>python 2.7, &gt;= 3.3</td>\n",
       "      <td>pyzmq</td>\n",
       "      <td>NaN</td>\n",
       "      <td>NaN</td>\n",
       "    </tr>\n",
       "    <tr>\n",
       "      <th>4</th>\n",
       "      <td>IJulia</td>\n",
       "      <td>NaN</td>\n",
       "      <td>julia &gt;= 0.3</td>\n",
       "      <td>NaN</td>\n",
       "      <td>NaN</td>\n",
       "      <td>NaN</td>\n",
       "    </tr>\n",
       "    <tr>\n",
       "      <th>5</th>\n",
       "      <td>IHaskell</td>\n",
       "      <td>NaN</td>\n",
       "      <td>ghc &gt;= 7.6</td>\n",
       "      <td>NaN</td>\n",
       "      <td>NaN</td>\n",
       "      <td>NaN</td>\n",
       "    </tr>\n",
       "    <tr>\n",
       "      <th>6</th>\n",
       "      <td>IRuby</td>\n",
       "      <td>NaN</td>\n",
       "      <td>ruby &gt;= 2.1</td>\n",
       "      <td>NaN</td>\n",
       "      <td>NaN</td>\n",
       "      <td>NaN</td>\n",
       "    </tr>\n",
       "    <tr>\n",
       "      <th>7</th>\n",
       "      <td>IJavascript</td>\n",
       "      <td>NaN</td>\n",
       "      <td>nodejs &gt;= 0.10</td>\n",
       "      <td>NaN</td>\n",
       "      <td>NaN</td>\n",
       "      <td>NaN</td>\n",
       "    </tr>\n",
       "    <tr>\n",
       "      <th>8</th>\n",
       "      <td>jpCoffeescript</td>\n",
       "      <td>NaN</td>\n",
       "      <td>coffeescript &gt;= 1.7</td>\n",
       "      <td>NaN</td>\n",
       "      <td>NaN</td>\n",
       "      <td>NaN</td>\n",
       "    </tr>\n",
       "    <tr>\n",
       "      <th>9</th>\n",
       "      <td>ICSharp</td>\n",
       "      <td>Jupyter 4.0</td>\n",
       "      <td>C# 4.0+</td>\n",
       "      <td>scriptcs</td>\n",
       "      <td>NaN</td>\n",
       "      <td>NaN</td>\n",
       "    </tr>\n",
       "    <tr>\n",
       "      <th>10</th>\n",
       "      <td>IRKernel</td>\n",
       "      <td>IPython 3.0</td>\n",
       "      <td>R 3.2</td>\n",
       "      <td>rzmq</td>\n",
       "      <td>NaN</td>\n",
       "      <td>NaN</td>\n",
       "    </tr>\n",
       "    <tr>\n",
       "      <th>11</th>\n",
       "      <td>SageMath</td>\n",
       "      <td>Jupyter 4</td>\n",
       "      <td>Any</td>\n",
       "      <td>many</td>\n",
       "      <td>NaN</td>\n",
       "      <td>NaN</td>\n",
       "    </tr>\n",
       "    <tr>\n",
       "      <th>12</th>\n",
       "      <td>pari_jupyter</td>\n",
       "      <td>Jupyter 4</td>\n",
       "      <td>PARI/GP &gt;= 2.9</td>\n",
       "      <td>NaN</td>\n",
       "      <td>NaN</td>\n",
       "      <td>NaN</td>\n",
       "    </tr>\n",
       "    <tr>\n",
       "      <th>13</th>\n",
       "      <td>IFSharp</td>\n",
       "      <td>IPython 2.0</td>\n",
       "      <td>F#</td>\n",
       "      <td>NaN</td>\n",
       "      <td>Features</td>\n",
       "      <td>NaN</td>\n",
       "    </tr>\n",
       "    <tr>\n",
       "      <th>14</th>\n",
       "      <td>lgo</td>\n",
       "      <td>Jupyter &gt;= 4, JupyterLab</td>\n",
       "      <td>Go &gt;= 1.8</td>\n",
       "      <td>ZeroMQ (4.x)</td>\n",
       "      <td>Example</td>\n",
       "      <td>Docker image</td>\n",
       "    </tr>\n",
       "    <tr>\n",
       "      <th>15</th>\n",
       "      <td>gopherlab</td>\n",
       "      <td>Jupyter 4.1, JupyterLab</td>\n",
       "      <td>Go &gt;= 1.6</td>\n",
       "      <td>ZeroMQ (4.x)</td>\n",
       "      <td>examples</td>\n",
       "      <td>NaN</td>\n",
       "    </tr>\n",
       "    <tr>\n",
       "      <th>16</th>\n",
       "      <td>Gophernotes</td>\n",
       "      <td>Jupyter 4</td>\n",
       "      <td>Go &gt;= 1.4</td>\n",
       "      <td>zeromq 2.2.x</td>\n",
       "      <td>examples</td>\n",
       "      <td>docker image</td>\n",
       "    </tr>\n",
       "    <tr>\n",
       "      <th>17</th>\n",
       "      <td>IGo</td>\n",
       "      <td>NaN</td>\n",
       "      <td>Go &gt;= 1.4</td>\n",
       "      <td>NaN</td>\n",
       "      <td>NaN</td>\n",
       "      <td>NaN</td>\n",
       "    </tr>\n",
       "    <tr>\n",
       "      <th>18</th>\n",
       "      <td>IScala</td>\n",
       "      <td>NaN</td>\n",
       "      <td>Scala</td>\n",
       "      <td>NaN</td>\n",
       "      <td>NaN</td>\n",
       "      <td>NaN</td>\n",
       "    </tr>\n",
       "    <tr>\n",
       "      <th>19</th>\n",
       "      <td>Jupyter-scala</td>\n",
       "      <td>IPython&gt;=3.0</td>\n",
       "      <td>Scala&gt;=2.10</td>\n",
       "      <td>NaN</td>\n",
       "      <td>example</td>\n",
       "      <td>NaN</td>\n",
       "    </tr>\n",
       "    <tr>\n",
       "      <th>20</th>\n",
       "      <td>IErlang</td>\n",
       "      <td>IPython 2.3</td>\n",
       "      <td>Erlang</td>\n",
       "      <td>rebar</td>\n",
       "      <td>NaN</td>\n",
       "      <td>NaN</td>\n",
       "    </tr>\n",
       "    <tr>\n",
       "      <th>21</th>\n",
       "      <td>ITorch</td>\n",
       "      <td>IPython &gt;= 2.2</td>\n",
       "      <td>Torch 7 (LuaJIT)</td>\n",
       "      <td>NaN</td>\n",
       "      <td>NaN</td>\n",
       "      <td>NaN</td>\n",
       "    </tr>\n",
       "    <tr>\n",
       "      <th>22</th>\n",
       "      <td>IElixir</td>\n",
       "      <td>Jupyter &lt; 6.0</td>\n",
       "      <td>Elixir &lt; 1.5</td>\n",
       "      <td>Erlang OTP &lt;= 19.3, Rebar</td>\n",
       "      <td>example</td>\n",
       "      <td>IElixir Notebook in Docker</td>\n",
       "    </tr>\n",
       "    <tr>\n",
       "      <th>23</th>\n",
       "      <td>ierl</td>\n",
       "      <td>Jupyter &gt;= 4.0</td>\n",
       "      <td>Erlang 19 or 20, Elixir 1.4 or 1.5, LFE 1.2</td>\n",
       "      <td>Erlang, (optional) Elixir</td>\n",
       "      <td>NaN</td>\n",
       "      <td>NaN</td>\n",
       "    </tr>\n",
       "    <tr>\n",
       "      <th>24</th>\n",
       "      <td>IAldor</td>\n",
       "      <td>IPython &gt;= 1</td>\n",
       "      <td>Aldor</td>\n",
       "      <td>NaN</td>\n",
       "      <td>NaN</td>\n",
       "      <td>NaN</td>\n",
       "    </tr>\n",
       "    <tr>\n",
       "      <th>25</th>\n",
       "      <td>IOCaml</td>\n",
       "      <td>IPython &gt;= 1.1</td>\n",
       "      <td>OCaml &gt;= 4.01</td>\n",
       "      <td>opam</td>\n",
       "      <td>NaN</td>\n",
       "      <td>NaN</td>\n",
       "    </tr>\n",
       "    <tr>\n",
       "      <th>26</th>\n",
       "      <td>OCaml-Jupyter</td>\n",
       "      <td>Jupyter &gt;= 4.0</td>\n",
       "      <td>OCaml &gt;= 4.02</td>\n",
       "      <td>opam</td>\n",
       "      <td>Example</td>\n",
       "      <td>Docker image</td>\n",
       "    </tr>\n",
       "    <tr>\n",
       "      <th>27</th>\n",
       "      <td>IForth</td>\n",
       "      <td>IPython &gt;= 3</td>\n",
       "      <td>Forth</td>\n",
       "      <td>NaN</td>\n",
       "      <td>NaN</td>\n",
       "      <td>NaN</td>\n",
       "    </tr>\n",
       "    <tr>\n",
       "      <th>28</th>\n",
       "      <td>peforth</td>\n",
       "      <td>IPython 6/Jupyter 5</td>\n",
       "      <td>Forth</td>\n",
       "      <td>NaN</td>\n",
       "      <td>Example</td>\n",
       "      <td>python debugger in FORTH syntax</td>\n",
       "    </tr>\n",
       "    <tr>\n",
       "      <th>29</th>\n",
       "      <td>IPerl</td>\n",
       "      <td>NaN</td>\n",
       "      <td>Perl 5</td>\n",
       "      <td>NaN</td>\n",
       "      <td>NaN</td>\n",
       "      <td>NaN</td>\n",
       "    </tr>\n",
       "    <tr>\n",
       "      <th>...</th>\n",
       "      <td>...</td>\n",
       "      <td>...</td>\n",
       "      <td>...</td>\n",
       "      <td>...</td>\n",
       "      <td>...</td>\n",
       "      <td>...</td>\n",
       "    </tr>\n",
       "    <tr>\n",
       "      <th>73</th>\n",
       "      <td>Calysto LC3</td>\n",
       "      <td>NaN</td>\n",
       "      <td>NaN</td>\n",
       "      <td>NaN</td>\n",
       "      <td>NaN</td>\n",
       "      <td>Assembly Language for the Little Computer 3</td>\n",
       "    </tr>\n",
       "    <tr>\n",
       "      <th>74</th>\n",
       "      <td>Yacas</td>\n",
       "      <td>NaN</td>\n",
       "      <td>YACAS</td>\n",
       "      <td>NaN</td>\n",
       "      <td>NaN</td>\n",
       "      <td>NaN</td>\n",
       "    </tr>\n",
       "    <tr>\n",
       "      <th>75</th>\n",
       "      <td>IJython</td>\n",
       "      <td>NaN</td>\n",
       "      <td>Jython 2.7</td>\n",
       "      <td>NaN</td>\n",
       "      <td>NaN</td>\n",
       "      <td>NaN</td>\n",
       "    </tr>\n",
       "    <tr>\n",
       "      <th>76</th>\n",
       "      <td>ROOT</td>\n",
       "      <td>Jupyter</td>\n",
       "      <td>C++/python</td>\n",
       "      <td>ROOT &gt;= 6.05</td>\n",
       "      <td>NaN</td>\n",
       "      <td>NaN</td>\n",
       "    </tr>\n",
       "    <tr>\n",
       "      <th>77</th>\n",
       "      <td>Gnuplot Kernel</td>\n",
       "      <td>NaN</td>\n",
       "      <td>Gnuplot</td>\n",
       "      <td>NaN</td>\n",
       "      <td>Example</td>\n",
       "      <td>MetaKernel</td>\n",
       "    </tr>\n",
       "    <tr>\n",
       "      <th>78</th>\n",
       "      <td>Tcl</td>\n",
       "      <td>Jupyter</td>\n",
       "      <td>Tcl 8.5</td>\n",
       "      <td>NaN</td>\n",
       "      <td>NaN</td>\n",
       "      <td>Based on Bash Kernel</td>\n",
       "    </tr>\n",
       "    <tr>\n",
       "      <th>79</th>\n",
       "      <td>J</td>\n",
       "      <td>Jupyter</td>\n",
       "      <td>J 805</td>\n",
       "      <td>NaN</td>\n",
       "      <td>Examples</td>\n",
       "      <td>NaN</td>\n",
       "    </tr>\n",
       "    <tr>\n",
       "      <th>80</th>\n",
       "      <td>Jython</td>\n",
       "      <td>Jupyter&gt;=4.0</td>\n",
       "      <td>Jython&gt;=2.7.0</td>\n",
       "      <td>Java&gt;=7</td>\n",
       "      <td>NaN</td>\n",
       "      <td>Java based JSR223 compliant</td>\n",
       "    </tr>\n",
       "    <tr>\n",
       "      <th>81</th>\n",
       "      <td>C</td>\n",
       "      <td>Jupyter</td>\n",
       "      <td>C</td>\n",
       "      <td>gcc</td>\n",
       "      <td>NaN</td>\n",
       "      <td>NaN</td>\n",
       "    </tr>\n",
       "    <tr>\n",
       "      <th>82</th>\n",
       "      <td>TaQL</td>\n",
       "      <td>Jupyter</td>\n",
       "      <td>TaQL</td>\n",
       "      <td>python-casacore</td>\n",
       "      <td>TaQL tutorial</td>\n",
       "      <td>NaN</td>\n",
       "    </tr>\n",
       "    <tr>\n",
       "      <th>83</th>\n",
       "      <td>Coconut</td>\n",
       "      <td>Jupyter</td>\n",
       "      <td>Coconut</td>\n",
       "      <td>NaN</td>\n",
       "      <td>NaN</td>\n",
       "      <td>NaN</td>\n",
       "    </tr>\n",
       "    <tr>\n",
       "      <th>84</th>\n",
       "      <td>SPARQL</td>\n",
       "      <td>Jupyter 4</td>\n",
       "      <td>Python 2.7 or &gt;=3.4</td>\n",
       "      <td>rdflib, SPARQLWrapper</td>\n",
       "      <td>Examples</td>\n",
       "      <td>Optional GraphViz dependency</td>\n",
       "    </tr>\n",
       "    <tr>\n",
       "      <th>85</th>\n",
       "      <td>AIML chatbot</td>\n",
       "      <td>Jupyter 4</td>\n",
       "      <td>Python 2.7</td>\n",
       "      <td>pyAIML</td>\n",
       "      <td>Examples</td>\n",
       "      <td>NaN</td>\n",
       "    </tr>\n",
       "    <tr>\n",
       "      <th>86</th>\n",
       "      <td>IArm</td>\n",
       "      <td>Jupyter 4</td>\n",
       "      <td>ARMv6 THUMB</td>\n",
       "      <td>NaN</td>\n",
       "      <td>Examples</td>\n",
       "      <td>Based off of the ARM Cortex M0+ CPU</td>\n",
       "    </tr>\n",
       "    <tr>\n",
       "      <th>87</th>\n",
       "      <td>SoS</td>\n",
       "      <td>Jupyter 4</td>\n",
       "      <td>Python &gt;=3.4</td>\n",
       "      <td>NaN</td>\n",
       "      <td>Examples</td>\n",
       "      <td>Workflow system, Multi-Kernel support</td>\n",
       "    </tr>\n",
       "    <tr>\n",
       "      <th>88</th>\n",
       "      <td>jupyter-nodejs</td>\n",
       "      <td>Jupyter, iPython 3.x</td>\n",
       "      <td>NodeJS, Babel, Clojurescript</td>\n",
       "      <td>NaN</td>\n",
       "      <td>Examples</td>\n",
       "      <td>NaN</td>\n",
       "    </tr>\n",
       "    <tr>\n",
       "      <th>89</th>\n",
       "      <td>Pike</td>\n",
       "      <td>IPython &gt;= 3</td>\n",
       "      <td>Pike &gt;= 7.8</td>\n",
       "      <td>NaN</td>\n",
       "      <td>NaN</td>\n",
       "      <td>Wrapper, Based on Bash Kernel</td>\n",
       "    </tr>\n",
       "    <tr>\n",
       "      <th>90</th>\n",
       "      <td>ITypeScript</td>\n",
       "      <td>NaN</td>\n",
       "      <td>Typescript &gt;= 2.0</td>\n",
       "      <td>Node.js &gt;= 0.10.0</td>\n",
       "      <td>NaN</td>\n",
       "      <td>NaN</td>\n",
       "    </tr>\n",
       "    <tr>\n",
       "      <th>91</th>\n",
       "      <td>imatlab</td>\n",
       "      <td>ipykernel &gt;= 4.1</td>\n",
       "      <td>MATLAB &gt;= 2016b</td>\n",
       "      <td>NaN</td>\n",
       "      <td>NaN</td>\n",
       "      <td>NaN</td>\n",
       "    </tr>\n",
       "    <tr>\n",
       "      <th>92</th>\n",
       "      <td>jupyter-kotlin</td>\n",
       "      <td>Jupyter</td>\n",
       "      <td>Kotlin 1.1-M04 EAP</td>\n",
       "      <td>Java &gt;= 8</td>\n",
       "      <td>NaN</td>\n",
       "      <td>NaN</td>\n",
       "    </tr>\n",
       "    <tr>\n",
       "      <th>93</th>\n",
       "      <td>jupyter_kernel_singular</td>\n",
       "      <td>Jupyter</td>\n",
       "      <td>Singular 4.1.0</td>\n",
       "      <td>NaN</td>\n",
       "      <td>Demo</td>\n",
       "      <td>Optional PySingular for better performance, su...</td>\n",
       "    </tr>\n",
       "    <tr>\n",
       "      <th>94</th>\n",
       "      <td>spylon-kernel</td>\n",
       "      <td>ipykernel &gt;=4.5</td>\n",
       "      <td>python &gt;= 3.5, scala &gt;= 2.11</td>\n",
       "      <td>Apache Spark &gt;=2.0</td>\n",
       "      <td>Example</td>\n",
       "      <td>MetaKernel</td>\n",
       "    </tr>\n",
       "    <tr>\n",
       "      <th>95</th>\n",
       "      <td>mit-scheme-kernel</td>\n",
       "      <td>Jupyter 4.0</td>\n",
       "      <td>MIT Scheme 9.2</td>\n",
       "      <td>NaN</td>\n",
       "      <td>NaN</td>\n",
       "      <td>NaN</td>\n",
       "    </tr>\n",
       "    <tr>\n",
       "      <th>96</th>\n",
       "      <td>elm-kernel</td>\n",
       "      <td>Jupyter</td>\n",
       "      <td>NaN</td>\n",
       "      <td>NaN</td>\n",
       "      <td>Examples</td>\n",
       "      <td>NaN</td>\n",
       "    </tr>\n",
       "    <tr>\n",
       "      <th>97</th>\n",
       "      <td>SciJava Jupyter Kernel</td>\n",
       "      <td>Jupyter 4.3.0</td>\n",
       "      <td>Java + 9 scripting languages</td>\n",
       "      <td>Java</td>\n",
       "      <td>Examples</td>\n",
       "      <td>NaN</td>\n",
       "    </tr>\n",
       "    <tr>\n",
       "      <th>98</th>\n",
       "      <td>Isbt</td>\n",
       "      <td>Jupyter 4.3.0</td>\n",
       "      <td>sbt &gt;= 1.0.0</td>\n",
       "      <td>sbt</td>\n",
       "      <td>example</td>\n",
       "      <td>NaN</td>\n",
       "    </tr>\n",
       "    <tr>\n",
       "      <th>99</th>\n",
       "      <td>BeakerX</td>\n",
       "      <td>NaN</td>\n",
       "      <td>NaN</td>\n",
       "      <td>Groovy, Java, Scala, Clojure, Kotlin, SQL</td>\n",
       "      <td>example</td>\n",
       "      <td>docker image</td>\n",
       "    </tr>\n",
       "    <tr>\n",
       "      <th>100</th>\n",
       "      <td>MicroPython</td>\n",
       "      <td>Jupyter</td>\n",
       "      <td>ESP8266/ESP32</td>\n",
       "      <td>USB or Webrepl</td>\n",
       "      <td>developer notebooks</td>\n",
       "      <td>relies on the micro-controller's paste-mode</td>\n",
       "    </tr>\n",
       "    <tr>\n",
       "      <th>101</th>\n",
       "      <td>IJava</td>\n",
       "      <td>Jupyter</td>\n",
       "      <td>Java 9</td>\n",
       "      <td>Java JDK &gt;= 9</td>\n",
       "      <td>Binder online demo</td>\n",
       "      <td>Based on the new JShell tool</td>\n",
       "    </tr>\n",
       "    <tr>\n",
       "      <th>102</th>\n",
       "      <td>Guile</td>\n",
       "      <td>Jupyter 5.2</td>\n",
       "      <td>Guile 2.0</td>\n",
       "      <td>guile-json</td>\n",
       "      <td>NaN</td>\n",
       "      <td>Message signing switched off so far</td>\n",
       "    </tr>\n",
       "  </tbody>\n",
       "</table>\n",
       "<p>103 rows × 6 columns</p>\n",
       "</div>"
      ],
      "text/plain": [
       "                        Name   Jupyter/IPython Version  \\\n",
       "0            Coarray-Fortran               Jupyter 4.0   \n",
       "1                 sparkmagic             Jupyter >=4.0   \n",
       "2                 sas_kernel               Jupyter 4.0   \n",
       "3                  IPyKernel               Jupyter 4.0   \n",
       "4                     IJulia                       NaN   \n",
       "5                   IHaskell                       NaN   \n",
       "6                      IRuby                       NaN   \n",
       "7                IJavascript                       NaN   \n",
       "8             jpCoffeescript                       NaN   \n",
       "9                    ICSharp               Jupyter 4.0   \n",
       "10                  IRKernel               IPython 3.0   \n",
       "11                  SageMath                 Jupyter 4   \n",
       "12              pari_jupyter                 Jupyter 4   \n",
       "13                   IFSharp               IPython 2.0   \n",
       "14                       lgo  Jupyter >= 4, JupyterLab   \n",
       "15                 gopherlab   Jupyter 4.1, JupyterLab   \n",
       "16               Gophernotes                 Jupyter 4   \n",
       "17                       IGo                       NaN   \n",
       "18                    IScala                       NaN   \n",
       "19             Jupyter-scala              IPython>=3.0   \n",
       "20                   IErlang               IPython 2.3   \n",
       "21                    ITorch            IPython >= 2.2   \n",
       "22                   IElixir             Jupyter < 6.0   \n",
       "23                      ierl            Jupyter >= 4.0   \n",
       "24                    IAldor              IPython >= 1   \n",
       "25                    IOCaml            IPython >= 1.1   \n",
       "26             OCaml-Jupyter            Jupyter >= 4.0   \n",
       "27                    IForth              IPython >= 3   \n",
       "28                   peforth       IPython 6/Jupyter 5   \n",
       "29                     IPerl                       NaN   \n",
       "..                       ...                       ...   \n",
       "73               Calysto LC3                       NaN   \n",
       "74                     Yacas                       NaN   \n",
       "75                   IJython                       NaN   \n",
       "76                      ROOT                   Jupyter   \n",
       "77            Gnuplot Kernel                       NaN   \n",
       "78                       Tcl                   Jupyter   \n",
       "79                         J                   Jupyter   \n",
       "80                    Jython              Jupyter>=4.0   \n",
       "81                         C                   Jupyter   \n",
       "82                      TaQL                   Jupyter   \n",
       "83                   Coconut                   Jupyter   \n",
       "84                    SPARQL                 Jupyter 4   \n",
       "85              AIML chatbot                 Jupyter 4   \n",
       "86                      IArm                 Jupyter 4   \n",
       "87                       SoS                 Jupyter 4   \n",
       "88            jupyter-nodejs      Jupyter, iPython 3.x   \n",
       "89                      Pike              IPython >= 3   \n",
       "90               ITypeScript                       NaN   \n",
       "91                   imatlab          ipykernel >= 4.1   \n",
       "92            jupyter-kotlin                   Jupyter   \n",
       "93   jupyter_kernel_singular                   Jupyter   \n",
       "94             spylon-kernel           ipykernel >=4.5   \n",
       "95         mit-scheme-kernel               Jupyter 4.0   \n",
       "96                elm-kernel                   Jupyter   \n",
       "97    SciJava Jupyter Kernel             Jupyter 4.3.0   \n",
       "98                      Isbt             Jupyter 4.3.0   \n",
       "99                   BeakerX                       NaN   \n",
       "100              MicroPython                   Jupyter   \n",
       "101                    IJava                   Jupyter   \n",
       "102                    Guile               Jupyter 5.2   \n",
       "\n",
       "                                   Language(s) Version  \\\n",
       "0                                    Fortran 2008/2015   \n",
       "1    Pyspark (Python 2 & 3), Spark (Scala), SparkR (R)   \n",
       "2                                        python >= 3.3   \n",
       "3                                   python 2.7, >= 3.3   \n",
       "4                                         julia >= 0.3   \n",
       "5                                           ghc >= 7.6   \n",
       "6                                          ruby >= 2.1   \n",
       "7                                       nodejs >= 0.10   \n",
       "8                                  coffeescript >= 1.7   \n",
       "9                                              C# 4.0+   \n",
       "10                                               R 3.2   \n",
       "11                                                 Any   \n",
       "12                                      PARI/GP >= 2.9   \n",
       "13                                                  F#   \n",
       "14                                           Go >= 1.8   \n",
       "15                                           Go >= 1.6   \n",
       "16                                           Go >= 1.4   \n",
       "17                                           Go >= 1.4   \n",
       "18                                               Scala   \n",
       "19                                         Scala>=2.10   \n",
       "20                                              Erlang   \n",
       "21                                    Torch 7 (LuaJIT)   \n",
       "22                                        Elixir < 1.5   \n",
       "23         Erlang 19 or 20, Elixir 1.4 or 1.5, LFE 1.2   \n",
       "24                                               Aldor   \n",
       "25                                       OCaml >= 4.01   \n",
       "26                                       OCaml >= 4.02   \n",
       "27                                               Forth   \n",
       "28                                               Forth   \n",
       "29                                              Perl 5   \n",
       "..                                                 ...   \n",
       "73                                                 NaN   \n",
       "74                                               YACAS   \n",
       "75                                          Jython 2.7   \n",
       "76                                          C++/python   \n",
       "77                                             Gnuplot   \n",
       "78                                             Tcl 8.5   \n",
       "79                                               J 805   \n",
       "80                                       Jython>=2.7.0   \n",
       "81                                                   C   \n",
       "82                                                TaQL   \n",
       "83                                             Coconut   \n",
       "84                                 Python 2.7 or >=3.4   \n",
       "85                                          Python 2.7   \n",
       "86                                         ARMv6 THUMB   \n",
       "87                                        Python >=3.4   \n",
       "88                        NodeJS, Babel, Clojurescript   \n",
       "89                                         Pike >= 7.8   \n",
       "90                                   Typescript >= 2.0   \n",
       "91                                     MATLAB >= 2016b   \n",
       "92                                  Kotlin 1.1-M04 EAP   \n",
       "93                                      Singular 4.1.0   \n",
       "94                        python >= 3.5, scala >= 2.11   \n",
       "95                                      MIT Scheme 9.2   \n",
       "96                                                 NaN   \n",
       "97                        Java + 9 scripting languages   \n",
       "98                                        sbt >= 1.0.0   \n",
       "99                                                 NaN   \n",
       "100                                      ESP8266/ESP32   \n",
       "101                                             Java 9   \n",
       "102                                          Guile 2.0   \n",
       "\n",
       "                          3rd party dependencies         Example Notebooks  \\\n",
       "0    GFortran >= 7.1, OpenCoarrays, MPICH >= 3.2         Demo, Binder demo   \n",
       "1                                           Livy  Notebooks, Docker Images   \n",
       "2                              SAS 9.4 or higher                       NaN   \n",
       "3                                          pyzmq                       NaN   \n",
       "4                                            NaN                       NaN   \n",
       "5                                            NaN                       NaN   \n",
       "6                                            NaN                       NaN   \n",
       "7                                            NaN                       NaN   \n",
       "8                                            NaN                       NaN   \n",
       "9                                       scriptcs                       NaN   \n",
       "10                                          rzmq                       NaN   \n",
       "11                                          many                       NaN   \n",
       "12                                           NaN                       NaN   \n",
       "13                                           NaN                  Features   \n",
       "14                                  ZeroMQ (4.x)                   Example   \n",
       "15                                  ZeroMQ (4.x)                  examples   \n",
       "16                                  zeromq 2.2.x                  examples   \n",
       "17                                           NaN                       NaN   \n",
       "18                                           NaN                       NaN   \n",
       "19                                           NaN                   example   \n",
       "20                                         rebar                       NaN   \n",
       "21                                           NaN                       NaN   \n",
       "22                     Erlang OTP <= 19.3, Rebar                   example   \n",
       "23                     Erlang, (optional) Elixir                       NaN   \n",
       "24                                           NaN                       NaN   \n",
       "25                                          opam                       NaN   \n",
       "26                                          opam                   Example   \n",
       "27                                           NaN                       NaN   \n",
       "28                                           NaN                   Example   \n",
       "29                                           NaN                       NaN   \n",
       "..                                           ...                       ...   \n",
       "73                                           NaN                       NaN   \n",
       "74                                           NaN                       NaN   \n",
       "75                                           NaN                       NaN   \n",
       "76                                  ROOT >= 6.05                       NaN   \n",
       "77                                           NaN                   Example   \n",
       "78                                           NaN                       NaN   \n",
       "79                                           NaN                  Examples   \n",
       "80                                       Java>=7                       NaN   \n",
       "81                                           gcc                       NaN   \n",
       "82                               python-casacore             TaQL tutorial   \n",
       "83                                           NaN                       NaN   \n",
       "84                         rdflib, SPARQLWrapper                  Examples   \n",
       "85                                        pyAIML                  Examples   \n",
       "86                                           NaN                  Examples   \n",
       "87                                           NaN                  Examples   \n",
       "88                                           NaN                  Examples   \n",
       "89                                           NaN                       NaN   \n",
       "90                             Node.js >= 0.10.0                       NaN   \n",
       "91                                           NaN                       NaN   \n",
       "92                                     Java >= 8                       NaN   \n",
       "93                                           NaN                      Demo   \n",
       "94                            Apache Spark >=2.0                   Example   \n",
       "95                                           NaN                       NaN   \n",
       "96                                           NaN                  Examples   \n",
       "97                                          Java                  Examples   \n",
       "98                                           sbt                   example   \n",
       "99     Groovy, Java, Scala, Clojure, Kotlin, SQL                   example   \n",
       "100                               USB or Webrepl       developer notebooks   \n",
       "101                                Java JDK >= 9        Binder online demo   \n",
       "102                                   guile-json                       NaN   \n",
       "\n",
       "                                                 Notes  \n",
       "0                                         Docker image  \n",
       "1    This kernels are implemented via the magics ma...  \n",
       "2                                                  NaN  \n",
       "3                                                  NaN  \n",
       "4                                                  NaN  \n",
       "5                                                  NaN  \n",
       "6                                                  NaN  \n",
       "7                                                  NaN  \n",
       "8                                                  NaN  \n",
       "9                                                  NaN  \n",
       "10                                                 NaN  \n",
       "11                                                 NaN  \n",
       "12                                                 NaN  \n",
       "13                                                 NaN  \n",
       "14                                        Docker image  \n",
       "15                                                 NaN  \n",
       "16                                        docker image  \n",
       "17                                                 NaN  \n",
       "18                                                 NaN  \n",
       "19                                                 NaN  \n",
       "20                                                 NaN  \n",
       "21                                                 NaN  \n",
       "22                          IElixir Notebook in Docker  \n",
       "23                                                 NaN  \n",
       "24                                                 NaN  \n",
       "25                                                 NaN  \n",
       "26                                        Docker image  \n",
       "27                                                 NaN  \n",
       "28                     python debugger in FORTH syntax  \n",
       "29                                                 NaN  \n",
       "..                                                 ...  \n",
       "73         Assembly Language for the Little Computer 3  \n",
       "74                                                 NaN  \n",
       "75                                                 NaN  \n",
       "76                                                 NaN  \n",
       "77                                          MetaKernel  \n",
       "78                                Based on Bash Kernel  \n",
       "79                                                 NaN  \n",
       "80                         Java based JSR223 compliant  \n",
       "81                                                 NaN  \n",
       "82                                                 NaN  \n",
       "83                                                 NaN  \n",
       "84                        Optional GraphViz dependency  \n",
       "85                                                 NaN  \n",
       "86                 Based off of the ARM Cortex M0+ CPU  \n",
       "87               Workflow system, Multi-Kernel support  \n",
       "88                                                 NaN  \n",
       "89                       Wrapper, Based on Bash Kernel  \n",
       "90                                                 NaN  \n",
       "91                                                 NaN  \n",
       "92                                                 NaN  \n",
       "93   Optional PySingular for better performance, su...  \n",
       "94                                          MetaKernel  \n",
       "95                                                 NaN  \n",
       "96                                                 NaN  \n",
       "97                                                 NaN  \n",
       "98                                                 NaN  \n",
       "99                                        docker image  \n",
       "100        relies on the micro-controller's paste-mode  \n",
       "101                       Based on the new JShell tool  \n",
       "102                Message signing switched off so far  \n",
       "\n",
       "[103 rows x 6 columns]"
      ]
     },
     "execution_count": 55,
     "metadata": {},
     "output_type": "execute_result"
    }
   ],
   "source": [
    "    \n",
    "    df"
   ]
  },
  {
   "cell_type": "markdown",
   "metadata": {
    "slideshow": {
     "slide_type": "slide"
    }
   },
   "source": [
    "# News"
   ]
  },
  {
   "cell_type": "code",
   "execution_count": 56,
   "metadata": {
    "slideshow": {
     "slide_type": "-"
    }
   },
   "outputs": [
    {
     "data": {
      "text/markdown": [
       "# [Jupyter 5.3 Released](https://blog.jupyter.org/jupyter-notebook-5-3-0-f2b08652279d)"
      ],
      "text/plain": [
       "<IPython.core.display.Markdown object>"
      ]
     },
     "metadata": {},
     "output_type": "display_data"
    },
    {
     "data": {
      "text/html": [
       "\n",
       "        <iframe\n",
       "            width=\"600\"\n",
       "            height=\"400\"\n",
       "            src=\"https://blog.jupyter.org/jupyter-notebook-5-3-0-f2b08652279d\"\n",
       "            frameborder=\"0\"\n",
       "            allowfullscreen\n",
       "        ></iframe>\n",
       "        "
      ],
      "text/plain": [
       "<IPython.lib.display.IFrame at 0x112a32748>"
      ]
     },
     "metadata": {},
     "output_type": "display_data"
    }
   ],
   "source": [
    "# [Jupyter 5.3 Released](https://blog.jupyter.org/jupyter-notebook-5-3-0-f2b08652279d)"
   ]
  },
  {
   "cell_type": "markdown",
   "metadata": {
    "slideshow": {
     "slide_type": "slide"
    }
   },
   "source": [
    "# [JupyterCon](https://blog.jupyter.org/jupytercon-2018-call-for-proposal-87986014ee0b)\n",
    "\n",
    "* [JupyterCon 2017](https://blog.jupyter.org/jupytercon-nyc-august-22nd-25th-565dc4129835)"
   ]
  },
  {
   "cell_type": "code",
   "execution_count": 58,
   "metadata": {
    "slideshow": {
     "slide_type": "subslide"
    }
   },
   "outputs": [
    {
     "data": {
      "text/html": [
       "\n",
       "        <iframe\n",
       "            width=\"600\"\n",
       "            height=\"400\"\n",
       "            src=\"https://www.businesswire.com/news/home/20180124005173/en/O%E2%80%99Reilly-Executives-Lead-Seminars-Learning-Technologies\"\n",
       "            frameborder=\"0\"\n",
       "            allowfullscreen\n",
       "        ></iframe>\n",
       "        "
      ],
      "text/plain": [
       "<IPython.lib.display.IFrame at 0x112a325f8>"
      ]
     },
     "metadata": {},
     "output_type": "display_data"
    }
   ],
   "source": [
    "https://www.businesswire.com/news/home/20180124005173/en/O%E2%80%99Reilly-Executives-Lead-Seminars-Learning-Technologies"
   ]
  },
  {
   "cell_type": "code",
   "execution_count": 60,
   "metadata": {
    "slideshow": {
     "slide_type": "subslide"
    }
   },
   "outputs": [
    {
     "data": {
      "text/markdown": [
       "# [Jupyter day Atlanta](https://docs.google.com/forms/d/e/1FAIpQLSeUJfyYnmsDtswuFanajOpAbAl_E4Ib6LsgM1fMk6Y42ZCf2w/viewform)\n",
       "\n",
       "* Paco Nathan\n",
       "* Stephen Welch\n",
       "* Carol Willing"
      ],
      "text/plain": [
       "<IPython.core.display.Markdown object>"
      ]
     },
     "metadata": {},
     "output_type": "display_data"
    }
   ],
   "source": [
    "# [Jupyter day Atlanta](https://docs.google.com/forms/d/e/1FAIpQLSeUJfyYnmsDtswuFanajOpAbAl_E4Ib6LsgM1fMk6Y42ZCf2w/viewform)\n",
    "\n",
    "* Paco Nathan\n",
    "* Stephen Welch\n",
    "* Carol Willing"
   ]
  },
  {
   "cell_type": "code",
   "execution_count": 61,
   "metadata": {
    "slideshow": {
     "slide_type": "slide"
    }
   },
   "outputs": [
    {
     "data": {
      "text/markdown": [
       "# [Southern Data Science Conference](https://www.southerndatascience.com/)\n",
       "\n",
       "<blockquote class=\"twitter-tweet\" data-lang=\"en\"><p lang=\"en\" dir=\"ltr\">The Steering Committee of the Research Track at <a href=\"https://twitter.com/hashtag/SDSC18?src=hash&amp;ref_src=twsrc%5Etfw\">#SDSC18</a> decided to extend the submission deadline to Feb-1 so more grad students can submit their abstracts <a href=\"https://t.co/DE9cbAbyyw\">pic.twitter.com/DE9cbAbyyw</a></p>&mdash; Southern Data Science Conference (@southerndsc) <a href=\"https://twitter.com/southerndsc/status/956976379047890946?ref_src=twsrc%5Etfw\">January 26, 2018</a></blockquote>\n",
       "<script async src=\"https://platform.twitter.com/widgets.js\" charset=\"utf-8\"></script>"
      ],
      "text/plain": [
       "<IPython.core.display.Markdown object>"
      ]
     },
     "metadata": {},
     "output_type": "display_data"
    }
   ],
   "source": [
    "# [Southern Data Science Conference](https://www.southerndatascience.com/)\n",
    "\n",
    "<blockquote class=\"twitter-tweet\" data-lang=\"en\"><p lang=\"en\" dir=\"ltr\">The Steering Committee of the Research Track at <a href=\"https://twitter.com/hashtag/SDSC18?src=hash&amp;ref_src=twsrc%5Etfw\">#SDSC18</a> decided to extend the submission deadline to Feb-1 so more grad students can submit their abstracts <a href=\"https://t.co/DE9cbAbyyw\">pic.twitter.com/DE9cbAbyyw</a></p>&mdash; Southern Data Science Conference (@southerndsc) <a href=\"https://twitter.com/southerndsc/status/956976379047890946?ref_src=twsrc%5Etfw\">January 26, 2018</a></blockquote>\n",
    "<script async src=\"https://platform.twitter.com/widgets.js\" charset=\"utf-8\"></script>"
   ]
  },
  {
   "cell_type": "markdown",
   "metadata": {},
   "source": [
    "## Doom in the notebook"
   ]
  },
  {
   "cell_type": "code",
   "execution_count": 12,
   "metadata": {},
   "outputs": [
    {
     "data": {
      "text/markdown": [
       "<blockquote class=\"twitter-tweet\" data-lang=\"en\"><p lang=\"en\" dir=\"ltr\">Almost playing doom in the jupyter notebook! Using a (new?!) canvas widget drawing <a href=\"https://twitter.com/hashtag/NumPy?src=hash&amp;ref_src=twsrc%5Etfw\">#NumPy</a> arrays with binary serialization. Thanks <a href=\"https://twitter.com/maartenbreddels?ref_src=twsrc%5Etfw\">@maartenbreddels</a>  for the binary serialization hints and all other folks at the <a href=\"https://twitter.com/ProjectJupyter?ref_src=twsrc%5Etfw\">@ProjectJupyter</a> widgets workshop. <a href=\"https://t.co/TgeZK1BttK\">pic.twitter.com/TgeZK1BttK</a></p>&mdash; Wolf Vollprecht (@wuoulf) <a href=\"https://twitter.com/wuoulf/status/956695967507632128?ref_src=twsrc%5Etfw\">January 26, 2018</a></blockquote>\n",
       "<script async src=\"https://platform.twitter.com/widgets.js\" charset=\"utf-8\"></script>"
      ],
      "text/plain": [
       "<IPython.core.display.Markdown object>"
      ]
     },
     "metadata": {},
     "output_type": "display_data"
    }
   ],
   "source": [
    "<blockquote class=\"twitter-tweet\" data-lang=\"en\"><p lang=\"en\" dir=\"ltr\">Almost playing doom in the jupyter notebook! Using a (new?!) canvas widget drawing <a href=\"https://twitter.com/hashtag/NumPy?src=hash&amp;ref_src=twsrc%5Etfw\">#NumPy</a> arrays with binary serialization. Thanks <a href=\"https://twitter.com/maartenbreddels?ref_src=twsrc%5Etfw\">@maartenbreddels</a>  for the binary serialization hints and all other folks at the <a href=\"https://twitter.com/ProjectJupyter?ref_src=twsrc%5Etfw\">@ProjectJupyter</a> widgets workshop. <a href=\"https://t.co/TgeZK1BttK\">pic.twitter.com/TgeZK1BttK</a></p>&mdash; Wolf Vollprecht (@wuoulf) <a href=\"https://twitter.com/wuoulf/status/956695967507632128?ref_src=twsrc%5Etfw\">January 26, 2018</a></blockquote>\n",
    "<script async src=\"https://platform.twitter.com/widgets.js\" charset=\"utf-8\"></script>"
   ]
  },
  {
   "cell_type": "code",
   "execution_count": 14,
   "metadata": {},
   "outputs": [
    {
     "data": {
      "text/markdown": [
       "# Jupyter in the Wall Street Journal\n",
       "\n",
       "* https://paulromer.net/doing-business/\n",
       "\n",
       "* https://github.com/paulromer149/DB-Calcs/blob/master/DB-Calcs.ipynb"
      ],
      "text/plain": [
       "<IPython.core.display.Markdown object>"
      ]
     },
     "metadata": {},
     "output_type": "display_data"
    }
   ],
   "source": [
    "# Jupyter in the Wall Street Journal\n",
    "\n",
    "* https://paulromer.net/doing-business/\n",
    "\n",
    "* https://github.com/paulromer149/DB-Calcs/blob/master/DB-Calcs.ipynb"
   ]
  },
  {
   "cell_type": "code",
   "execution_count": 63,
   "metadata": {
    "slideshow": {
     "slide_type": "slide"
    }
   },
   "outputs": [
    {
     "data": {
      "text/markdown": [
       "[![Binder](https://mybinder.org/badge.svg)](https://mybinder.org/v2/gh/quantopian/qgrid-notebooks/master)\n",
       "\n",
       "<blockquote class=\"twitter-tweet\" data-lang=\"en\"><p lang=\"en\" dir=\"ltr\">Qgrid 1.0 is out now! Qgrid is an interactive grid for sorting, filtering, and editing pandas DataFrames in Jupyter Notebook <a href=\"https://t.co/4iS0AalZxh\">https://t.co/4iS0AalZxh</a> <a href=\"https://twitter.com/hashtag/python?src=hash&amp;ref_src=twsrc%5Etfw\">#python</a> <a href=\"https://twitter.com/hashtag/jupyter?src=hash&amp;ref_src=twsrc%5Etfw\">#jupyter</a> <a href=\"https://twitter.com/hashtag/pandas?src=hash&amp;ref_src=twsrc%5Etfw\">#pandas</a> <a href=\"https://twitter.com/hashtag/javascript?src=hash&amp;ref_src=twsrc%5Etfw\">#javascript</a> <a href=\"https://twitter.com/hashtag/DataScience?src=hash&amp;ref_src=twsrc%5Etfw\">#DataScience</a> <a href=\"https://twitter.com/hashtag/qgrid?src=hash&amp;ref_src=twsrc%5Etfw\">#qgrid</a></p>&mdash; Tim Shawver (@Tim_Shawver) <a href=\"https://twitter.com/Tim_Shawver/status/950464665955553281?ref_src=twsrc%5Etfw\">January 8, 2018</a></blockquote>\n",
       "<script async src=\"https://platform.twitter.com/widgets.js\" charset=\"utf-8\"></script>"
      ],
      "text/plain": [
       "<IPython.core.display.Markdown object>"
      ]
     },
     "metadata": {},
     "output_type": "display_data"
    }
   ],
   "source": [
    "[![Binder](https://mybinder.org/badge.svg)](https://mybinder.org/v2/gh/quantopian/qgrid-notebooks/master)\n",
    "\n",
    "<blockquote class=\"twitter-tweet\" data-lang=\"en\"><p lang=\"en\" dir=\"ltr\">Qgrid 1.0 is out now! Qgrid is an interactive grid for sorting, filtering, and editing pandas DataFrames in Jupyter Notebook <a href=\"https://t.co/4iS0AalZxh\">https://t.co/4iS0AalZxh</a> <a href=\"https://twitter.com/hashtag/python?src=hash&amp;ref_src=twsrc%5Etfw\">#python</a> <a href=\"https://twitter.com/hashtag/jupyter?src=hash&amp;ref_src=twsrc%5Etfw\">#jupyter</a> <a href=\"https://twitter.com/hashtag/pandas?src=hash&amp;ref_src=twsrc%5Etfw\">#pandas</a> <a href=\"https://twitter.com/hashtag/javascript?src=hash&amp;ref_src=twsrc%5Etfw\">#javascript</a> <a href=\"https://twitter.com/hashtag/DataScience?src=hash&amp;ref_src=twsrc%5Etfw\">#DataScience</a> <a href=\"https://twitter.com/hashtag/qgrid?src=hash&amp;ref_src=twsrc%5Etfw\">#qgrid</a></p>&mdash; Tim Shawver (@Tim_Shawver) <a href=\"https://twitter.com/Tim_Shawver/status/950464665955553281?ref_src=twsrc%5Etfw\">January 8, 2018</a></blockquote>\n",
    "<script async src=\"https://platform.twitter.com/widgets.js\" charset=\"utf-8\"></script>"
   ]
  },
  {
   "cell_type": "code",
   "execution_count": 16,
   "metadata": {
    "slideshow": {
     "slide_type": "slide"
    }
   },
   "outputs": [
    {
     "data": {
      "text/markdown": [
       "<blockquote class=\"twitter-tweet\" data-lang=\"en\"><p lang=\"en\" dir=\"ltr\">5000+ total users, 600+ active at 8PM PST on <a href=\"https://twitter.com/BerkeleyDataSci?ref_src=twsrc%5Etfw\">@BerkeleyDataSci</a> JupyterHub :) I wonder if this is the largest single JupyterHub running? <a href=\"https://twitter.com/ProjectJupyter?ref_src=twsrc%5Etfw\">@ProjectJupyter</a> <a href=\"https://t.co/haH3aFPJ87\">pic.twitter.com/haH3aFPJ87</a></p>&mdash; Yuvi Panda (@yuvipanda) <a href=\"https://twitter.com/yuvipanda/status/956381252428288000?ref_src=twsrc%5Etfw\">January 25, 2018</a></blockquote>\n",
       "<script async src=\"https://platform.twitter.com/widgets.js\" charset=\"utf-8\"></script>"
      ],
      "text/plain": [
       "<IPython.core.display.Markdown object>"
      ]
     },
     "metadata": {},
     "output_type": "display_data"
    }
   ],
   "source": [
    "<blockquote class=\"twitter-tweet\" data-lang=\"en\"><p lang=\"en\" dir=\"ltr\">5000+ total users, 600+ active at 8PM PST on <a href=\"https://twitter.com/BerkeleyDataSci?ref_src=twsrc%5Etfw\">@BerkeleyDataSci</a> JupyterHub :) I wonder if this is the largest single JupyterHub running? <a href=\"https://twitter.com/ProjectJupyter?ref_src=twsrc%5Etfw\">@ProjectJupyter</a> <a href=\"https://t.co/haH3aFPJ87\">pic.twitter.com/haH3aFPJ87</a></p>&mdash; Yuvi Panda (@yuvipanda) <a href=\"https://twitter.com/yuvipanda/status/956381252428288000?ref_src=twsrc%5Etfw\">January 25, 2018</a></blockquote>\n",
    "<script async src=\"https://platform.twitter.com/widgets.js\" charset=\"utf-8\"></script>\n"
   ]
  },
  {
   "cell_type": "code",
   "execution_count": 19,
   "metadata": {
    "slideshow": {
     "slide_type": "slide"
    }
   },
   "outputs": [
    {
     "data": {
      "text/html": [
       "\n",
       "        <iframe\n",
       "            width=\"600\"\n",
       "            height=\"400\"\n",
       "            src=\"https://www.cambridgenetwork.co.uk/news/engineering-dept-open-source-azure-service/\"\n",
       "            frameborder=\"0\"\n",
       "            allowfullscreen\n",
       "        ></iframe>\n",
       "        "
      ],
      "text/plain": [
       "<IPython.lib.display.IFrame at 0x1129a73c8>"
      ]
     },
     "metadata": {},
     "output_type": "display_data"
    }
   ],
   "source": [
    "https://www.cambridgenetwork.co.uk/news/engineering-dept-open-source-azure-service/"
   ]
  },
  {
   "cell_type": "code",
   "execution_count": 64,
   "metadata": {
    "slideshow": {
     "slide_type": "slide"
    }
   },
   "outputs": [
    {
     "data": {
      "text/markdown": [
       "# [Deep Learning Notebooks](http://www.fast.ai/)"
      ],
      "text/plain": [
       "<IPython.core.display.Markdown object>"
      ]
     },
     "metadata": {},
     "output_type": "display_data"
    },
    {
     "data": {
      "text/html": [
       "\n",
       "        <iframe\n",
       "            width=\"600\"\n",
       "            height=\"400\"\n",
       "            src=\"http://www.fast.ai/\"\n",
       "            frameborder=\"0\"\n",
       "            allowfullscreen\n",
       "        ></iframe>\n",
       "        "
      ],
      "text/plain": [
       "<IPython.lib.display.IFrame at 0x112a32518>"
      ]
     },
     "metadata": {},
     "output_type": "display_data"
    }
   ],
   "source": [
    "# [Deep Learning Notebooks](http://www.fast.ai/)"
   ]
  },
  {
   "cell_type": "code",
   "execution_count": 66,
   "metadata": {
    "slideshow": {
     "slide_type": "slide"
    }
   },
   "outputs": [
    {
     "data": {
      "text/markdown": [
       "# [Jupyter X Medium](https://medium.com/plata/posting-jupyter-notebooks-in-medium-19c49847e7fb)"
      ],
      "text/plain": [
       "<IPython.core.display.Markdown object>"
      ]
     },
     "metadata": {},
     "output_type": "display_data"
    },
    {
     "data": {
      "text/html": [
       "\n",
       "        <iframe\n",
       "            width=\"600\"\n",
       "            height=\"400\"\n",
       "            src=\"https://medium.com/plata/posting-jupyter-notebooks-in-medium-19c49847e7fb\"\n",
       "            frameborder=\"0\"\n",
       "            allowfullscreen\n",
       "        ></iframe>\n",
       "        "
      ],
      "text/plain": [
       "<IPython.lib.display.IFrame at 0x1129b7da0>"
      ]
     },
     "metadata": {},
     "output_type": "display_data"
    }
   ],
   "source": [
    "# [Jupyter X Medium](https://medium.com/plata/posting-jupyter-notebooks-in-medium-19c49847e7fb)"
   ]
  },
  {
   "cell_type": "code",
   "execution_count": null,
   "metadata": {},
   "outputs": [],
   "source": []
  }
 ],
 "metadata": {
  "celltoolbar": "Slideshow",
  "kernelspec": {
   "display_name": "p6",
   "language": "python",
   "name": "other-env"
  },
  "language_info": {
   "codemirror_mode": {
    "name": "ipython",
    "version": 3
   },
   "file_extension": ".py",
   "mimetype": "text/x-python",
   "name": "python",
   "nbconvert_exporter": "python",
   "pygments_lexer": "ipython3",
   "version": "3.6.3"
  }
 },
 "nbformat": 4,
 "nbformat_minor": 2
}
