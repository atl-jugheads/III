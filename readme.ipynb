{
 "cells": [
  {
   "cell_type": "code",
   "execution_count": 1,
   "metadata": {},
   "outputs": [],
   "source": [
    "    %reload_ext literacy"
   ]
  },
  {
   "cell_type": "code",
   "execution_count": 2,
   "metadata": {},
   "outputs": [
    {
     "data": {
      "text/markdown": [
       "# [Jupyter User Group Meeting III](https://www.meetup.com/Atlanta-Jupyter-User-Group/events/246623197/)"
      ],
      "text/plain": [
       "<IPython.core.display.Markdown object>"
      ]
     },
     "metadata": {},
     "output_type": "display_data"
    },
    {
     "data": {
      "text/html": [
       "\n",
       "        <iframe\n",
       "            width=\"600\"\n",
       "            height=\"400\"\n",
       "            src=\"https://www.meetup.com/Atlanta-Jupyter-User-Group/events/246623197/\"\n",
       "            frameborder=\"0\"\n",
       "            allowfullscreen\n",
       "        ></iframe>\n",
       "        "
      ],
      "text/plain": [
       "<IPython.lib.display.IFrame at 0x10b5539e8>"
      ]
     },
     "metadata": {},
     "output_type": "display_data"
    }
   ],
   "source": [
    "# [Jupyter User Group Meeting III](https://www.meetup.com/Atlanta-Jupyter-User-Group/events/246623197/)"
   ]
  },
  {
   "cell_type": "code",
   "execution_count": 3,
   "metadata": {},
   "outputs": [
    {
     "data": {
      "text/markdown": [
       "# Contact\n",
       "\n",
       "* Tony Fast - @docfast\n",
       "* Luke Starnes - @slstarnes"
      ],
      "text/plain": [
       "<IPython.core.display.Markdown object>"
      ]
     },
     "metadata": {},
     "output_type": "display_data"
    }
   ],
   "source": [
    "# Contact\n",
    "\n",
    "* Tony Fast - @docfast\n",
    "* Luke Starnes - @slstarnes"
   ]
  },
  {
   "cell_type": "code",
   "execution_count": 18,
   "metadata": {},
   "outputs": [
    {
     "data": {
      "text/markdown": [
       "# [Gitter](https://en.wikipedia.org/wiki/Gitter)\n",
       "\n",
       "The Jupyter User Group uses __Gitter__ during each meeting to record information, comments, and questions.  \n",
       "\n",
       "> We ask the speakers to open \n",
       "__Gitter__ in their browser and [enable notifications](https://gitter.zendesk.com/hc/en-us/articles/210265505-Notifications);\n",
       "this way the audience can interact with the speaker during their talk."
      ],
      "text/plain": [
       "<IPython.core.display.Markdown object>"
      ]
     },
     "metadata": {},
     "output_type": "display_data"
    }
   ],
   "source": [
    "# [Gitter](https://en.wikipedia.org/wiki/Gitter)\n",
    "\n",
    "The Jupyter User Group uses __Gitter__ during each meeting to record information, comments, and questions.  \n",
    "\n",
    "> We ask the speakers to open \n",
    "__Gitter__ in their browser and [enable notifications](https://gitter.zendesk.com/hc/en-us/articles/210265505-Notifications);\n",
    "this way the audience can interact with the speaker during their talk."
   ]
  },
  {
   "cell_type": "code",
   "execution_count": 11,
   "metadata": {},
   "outputs": [
    {
     "data": {
      "text/html": [
       "\n",
       "        <iframe\n",
       "            width=\"600\"\n",
       "            height=\"400\"\n",
       "            src=\"https://gitter.im/atl-jugheads/Lobby\"\n",
       "            frameborder=\"0\"\n",
       "            allowfullscreen\n",
       "        ></iframe>\n",
       "        "
      ],
      "text/plain": [
       "<IPython.lib.display.IFrame at 0x1105c6f60>"
      ]
     },
     "metadata": {},
     "output_type": "display_data"
    }
   ],
   "source": [
    "https://gitter.im/atl-jugheads/Lobby"
   ]
  },
  {
   "cell_type": "markdown",
   "metadata": {},
   "source": [
    "# WIFI\n",
    "\n"
   ]
  },
  {
   "cell_type": "code",
   "execution_count": 36,
   "metadata": {},
   "outputs": [
    {
     "data": {
      "text/markdown": [
       "# Who are we\n",
       "\n",
       "The Atlanta Jupyter User Group is a local community of designers, developers and scientists using Jupyter notebooks.\n",
       "\n",
       "The user group meetings are afforable events that host 40-50 Jupyter users from the nearby Atlanta Metro Area. They will attract designers, developers, and scientists solving problems in applications that include:\n",
       "\n",
       "Education and training\n",
       "Public health, medicine, and bioinformatics\n",
       "Math, Science and, Engineering\n",
       "Art, music, and making\n",
       "Journalism, law, and policy\n",
       "Visualization, UI, and UX\n",
       "\n",
       "* Github\n",
       "* twitter\n",
       "* Gitter"
      ],
      "text/plain": [
       "<IPython.core.display.Markdown object>"
      ]
     },
     "metadata": {},
     "output_type": "display_data"
    }
   ],
   "source": [
    "# Who are we\n",
    "\n",
    "The Atlanta Jupyter User Group is a local community of designers, developers and scientists using Jupyter notebooks.\n",
    "\n",
    "The user group meetings are afforable events that host 40-50 Jupyter users from the nearby Atlanta Metro Area. They will attract designers, developers, and scientists solving problems in applications that include:\n",
    "\n",
    "Education and training\n",
    "Public health, medicine, and bioinformatics\n",
    "Math, Science and, Engineering\n",
    "Art, music, and making\n",
    "Journalism, law, and policy\n",
    "Visualization, UI, and UX\n",
    "\n",
    "* Github\n",
    "* twitter\n",
    "* Gitter"
   ]
  },
  {
   "cell_type": "code",
   "execution_count": 25,
   "metadata": {},
   "outputs": [
    {
     "data": {
      "text/html": [
       "\n",
       "        <iframe\n",
       "            width=\"600\"\n",
       "            height=\"400\"\n",
       "            src=\"http://jupyter.org/about\"\n",
       "            frameborder=\"0\"\n",
       "            allowfullscreen\n",
       "        ></iframe>\n",
       "        "
      ],
      "text/plain": [
       "<IPython.lib.display.IFrame at 0x111ef7710>"
      ]
     },
     "metadata": {},
     "output_type": "display_data"
    }
   ],
   "source": [
    "http://jupyter.org/about"
   ]
  },
  {
   "cell_type": "code",
   "execution_count": 22,
   "metadata": {},
   "outputs": [
    {
     "data": {
      "text/markdown": [
       "# Code of Conduct"
      ],
      "text/plain": [
       "<IPython.core.display.Markdown object>"
      ]
     },
     "metadata": {},
     "output_type": "display_data"
    }
   ],
   "source": [
    "# Code of Conduct"
   ]
  },
  {
   "cell_type": "code",
   "execution_count": 34,
   "metadata": {},
   "outputs": [
    {
     "data": {
      "text/markdown": [
       "# [Jupyter 5.3 Released](https://blog.jupyter.org/jupyter-notebook-5-3-0-f2b08652279d)"
      ],
      "text/plain": [
       "<IPython.core.display.Markdown object>"
      ]
     },
     "metadata": {},
     "output_type": "display_data"
    },
    {
     "data": {
      "text/html": [
       "\n",
       "        <iframe\n",
       "            width=\"600\"\n",
       "            height=\"400\"\n",
       "            src=\"https://blog.jupyter.org/jupyter-notebook-5-3-0-f2b08652279d\"\n",
       "            frameborder=\"0\"\n",
       "            allowfullscreen\n",
       "        ></iframe>\n",
       "        "
      ],
      "text/plain": [
       "<IPython.lib.display.IFrame at 0x112a01ba8>"
      ]
     },
     "metadata": {},
     "output_type": "display_data"
    }
   ],
   "source": [
    "# [Jupyter 5.3 Released](https://blog.jupyter.org/jupyter-notebook-5-3-0-f2b08652279d)"
   ]
  },
  {
   "cell_type": "code",
   "execution_count": 9,
   "metadata": {},
   "outputs": [
    {
     "data": {
      "text/markdown": [
       "    %reload_ext literacy"
      ],
      "text/plain": [
       "<IPython.core.display.Markdown object>"
      ]
     },
     "metadata": {},
     "output_type": "display_data"
    }
   ],
   "source": [
    "    %reload_ext literacy"
   ]
  },
  {
   "cell_type": "markdown",
   "metadata": {},
   "source": [
    "# [JupyterCon](https://blog.jupyter.org/jupytercon-2018-call-for-proposal-87986014ee0b)\n",
    "\n",
    "* [JupyterCon 2017](https://blog.jupyter.org/jupytercon-nyc-august-22nd-25th-565dc4129835)"
   ]
  },
  {
   "cell_type": "code",
   "execution_count": 33,
   "metadata": {},
   "outputs": [
    {
     "data": {
      "text/html": [
       "\n",
       "        <iframe\n",
       "            width=\"600\"\n",
       "            height=\"400\"\n",
       "            src=\"https://www.businesswire.com/news/home/20180124005173/en/O%E2%80%99Reilly-Executives-Lead-Seminars-Learning-Technologies\"\n",
       "            frameborder=\"0\"\n",
       "            allowfullscreen\n",
       "        ></iframe>\n",
       "        "
      ],
      "text/plain": [
       "<IPython.lib.display.IFrame at 0x112a01710>"
      ]
     },
     "metadata": {},
     "output_type": "display_data"
    }
   ],
   "source": [
    "https://www.businesswire.com/news/home/20180124005173/en/O%E2%80%99Reilly-Executives-Lead-Seminars-Learning-Technologies"
   ]
  },
  {
   "cell_type": "code",
   "execution_count": 32,
   "metadata": {},
   "outputs": [
    {
     "data": {
      "text/markdown": [
       "# Jupyter day Atlanta\n",
       "\n",
       "* Paco Nathan\n",
       "* Stephen Welch\n",
       "* Carol Willing"
      ],
      "text/plain": [
       "<IPython.core.display.Markdown object>"
      ]
     },
     "metadata": {},
     "output_type": "display_data"
    }
   ],
   "source": [
    "# Jupyter day Atlanta\n",
    "\n",
    "* Paco Nathan\n",
    "* Stephen Welch\n",
    "* Carol Willing"
   ]
  },
  {
   "cell_type": "code",
   "execution_count": 30,
   "metadata": {},
   "outputs": [
    {
     "data": {
      "text/markdown": [
       "# [Southern Data Science Conference](https://www.southerndatascience.com/)\n",
       "\n",
       "<blockquote class=\"twitter-tweet\" data-lang=\"en\"><p lang=\"en\" dir=\"ltr\">The Steering Committee of the Research Track at <a href=\"https://twitter.com/hashtag/SDSC18?src=hash&amp;ref_src=twsrc%5Etfw\">#SDSC18</a> decided to extend the submission deadline to Feb-1 so more grad students can submit their abstracts <a href=\"https://t.co/DE9cbAbyyw\">pic.twitter.com/DE9cbAbyyw</a></p>&mdash; Southern Data Science Conference (@southerndsc) <a href=\"https://twitter.com/southerndsc/status/956976379047890946?ref_src=twsrc%5Etfw\">January 26, 2018</a></blockquote>\n",
       "<script async src=\"https://platform.twitter.com/widgets.js\" charset=\"utf-8\"></script>"
      ],
      "text/plain": [
       "<IPython.core.display.Markdown object>"
      ]
     },
     "metadata": {},
     "output_type": "display_data"
    }
   ],
   "source": [
    "# [Southern Data Science Conference](https://www.southerndatascience.com/)\n",
    "\n",
    "<blockquote class=\"twitter-tweet\" data-lang=\"en\"><p lang=\"en\" dir=\"ltr\">The Steering Committee of the Research Track at <a href=\"https://twitter.com/hashtag/SDSC18?src=hash&amp;ref_src=twsrc%5Etfw\">#SDSC18</a> decided to extend the submission deadline to Feb-1 so more grad students can submit their abstracts <a href=\"https://t.co/DE9cbAbyyw\">pic.twitter.com/DE9cbAbyyw</a></p>&mdash; Southern Data Science Conference (@southerndsc) <a href=\"https://twitter.com/southerndsc/status/956976379047890946?ref_src=twsrc%5Etfw\">January 26, 2018</a></blockquote>\n",
    "<script async src=\"https://platform.twitter.com/widgets.js\" charset=\"utf-8\"></script>"
   ]
  },
  {
   "cell_type": "markdown",
   "metadata": {},
   "source": [
    "## Doom in the notebook"
   ]
  },
  {
   "cell_type": "code",
   "execution_count": 12,
   "metadata": {},
   "outputs": [
    {
     "data": {
      "text/markdown": [
       "<blockquote class=\"twitter-tweet\" data-lang=\"en\"><p lang=\"en\" dir=\"ltr\">Almost playing doom in the jupyter notebook! Using a (new?!) canvas widget drawing <a href=\"https://twitter.com/hashtag/NumPy?src=hash&amp;ref_src=twsrc%5Etfw\">#NumPy</a> arrays with binary serialization. Thanks <a href=\"https://twitter.com/maartenbreddels?ref_src=twsrc%5Etfw\">@maartenbreddels</a>  for the binary serialization hints and all other folks at the <a href=\"https://twitter.com/ProjectJupyter?ref_src=twsrc%5Etfw\">@ProjectJupyter</a> widgets workshop. <a href=\"https://t.co/TgeZK1BttK\">pic.twitter.com/TgeZK1BttK</a></p>&mdash; Wolf Vollprecht (@wuoulf) <a href=\"https://twitter.com/wuoulf/status/956695967507632128?ref_src=twsrc%5Etfw\">January 26, 2018</a></blockquote>\n",
       "<script async src=\"https://platform.twitter.com/widgets.js\" charset=\"utf-8\"></script>"
      ],
      "text/plain": [
       "<IPython.core.display.Markdown object>"
      ]
     },
     "metadata": {},
     "output_type": "display_data"
    }
   ],
   "source": [
    "<blockquote class=\"twitter-tweet\" data-lang=\"en\"><p lang=\"en\" dir=\"ltr\">Almost playing doom in the jupyter notebook! Using a (new?!) canvas widget drawing <a href=\"https://twitter.com/hashtag/NumPy?src=hash&amp;ref_src=twsrc%5Etfw\">#NumPy</a> arrays with binary serialization. Thanks <a href=\"https://twitter.com/maartenbreddels?ref_src=twsrc%5Etfw\">@maartenbreddels</a>  for the binary serialization hints and all other folks at the <a href=\"https://twitter.com/ProjectJupyter?ref_src=twsrc%5Etfw\">@ProjectJupyter</a> widgets workshop. <a href=\"https://t.co/TgeZK1BttK\">pic.twitter.com/TgeZK1BttK</a></p>&mdash; Wolf Vollprecht (@wuoulf) <a href=\"https://twitter.com/wuoulf/status/956695967507632128?ref_src=twsrc%5Etfw\">January 26, 2018</a></blockquote>\n",
    "<script async src=\"https://platform.twitter.com/widgets.js\" charset=\"utf-8\"></script>"
   ]
  },
  {
   "cell_type": "code",
   "execution_count": 14,
   "metadata": {},
   "outputs": [
    {
     "data": {
      "text/markdown": [
       "# Jupyter in the Wall Street Journal\n",
       "\n",
       "* https://paulromer.net/doing-business/\n",
       "\n",
       "* https://github.com/paulromer149/DB-Calcs/blob/master/DB-Calcs.ipynb"
      ],
      "text/plain": [
       "<IPython.core.display.Markdown object>"
      ]
     },
     "metadata": {},
     "output_type": "display_data"
    }
   ],
   "source": [
    "# Jupyter in the Wall Street Journal\n",
    "\n",
    "* https://paulromer.net/doing-business/\n",
    "\n",
    "* https://github.com/paulromer149/DB-Calcs/blob/master/DB-Calcs.ipynb"
   ]
  },
  {
   "cell_type": "code",
   "execution_count": 15,
   "metadata": {},
   "outputs": [
    {
     "data": {
      "text/markdown": [
       "<blockquote class=\"twitter-tweet\" data-lang=\"en\"><p lang=\"en\" dir=\"ltr\">Qgrid 1.0 is out now! Qgrid is an interactive grid for sorting, filtering, and editing pandas DataFrames in Jupyter Notebook <a href=\"https://t.co/4iS0AalZxh\">https://t.co/4iS0AalZxh</a> <a href=\"https://twitter.com/hashtag/python?src=hash&amp;ref_src=twsrc%5Etfw\">#python</a> <a href=\"https://twitter.com/hashtag/jupyter?src=hash&amp;ref_src=twsrc%5Etfw\">#jupyter</a> <a href=\"https://twitter.com/hashtag/pandas?src=hash&amp;ref_src=twsrc%5Etfw\">#pandas</a> <a href=\"https://twitter.com/hashtag/javascript?src=hash&amp;ref_src=twsrc%5Etfw\">#javascript</a> <a href=\"https://twitter.com/hashtag/DataScience?src=hash&amp;ref_src=twsrc%5Etfw\">#DataScience</a> <a href=\"https://twitter.com/hashtag/qgrid?src=hash&amp;ref_src=twsrc%5Etfw\">#qgrid</a></p>&mdash; Tim Shawver (@Tim_Shawver) <a href=\"https://twitter.com/Tim_Shawver/status/950464665955553281?ref_src=twsrc%5Etfw\">January 8, 2018</a></blockquote>\n",
       "<script async src=\"https://platform.twitter.com/widgets.js\" charset=\"utf-8\"></script>"
      ],
      "text/plain": [
       "<IPython.core.display.Markdown object>"
      ]
     },
     "metadata": {},
     "output_type": "display_data"
    }
   ],
   "source": [
    "<blockquote class=\"twitter-tweet\" data-lang=\"en\"><p lang=\"en\" dir=\"ltr\">Qgrid 1.0 is out now! Qgrid is an interactive grid for sorting, filtering, and editing pandas DataFrames in Jupyter Notebook <a href=\"https://t.co/4iS0AalZxh\">https://t.co/4iS0AalZxh</a> <a href=\"https://twitter.com/hashtag/python?src=hash&amp;ref_src=twsrc%5Etfw\">#python</a> <a href=\"https://twitter.com/hashtag/jupyter?src=hash&amp;ref_src=twsrc%5Etfw\">#jupyter</a> <a href=\"https://twitter.com/hashtag/pandas?src=hash&amp;ref_src=twsrc%5Etfw\">#pandas</a> <a href=\"https://twitter.com/hashtag/javascript?src=hash&amp;ref_src=twsrc%5Etfw\">#javascript</a> <a href=\"https://twitter.com/hashtag/DataScience?src=hash&amp;ref_src=twsrc%5Etfw\">#DataScience</a> <a href=\"https://twitter.com/hashtag/qgrid?src=hash&amp;ref_src=twsrc%5Etfw\">#qgrid</a></p>&mdash; Tim Shawver (@Tim_Shawver) <a href=\"https://twitter.com/Tim_Shawver/status/950464665955553281?ref_src=twsrc%5Etfw\">January 8, 2018</a></blockquote>\n",
    "<script async src=\"https://platform.twitter.com/widgets.js\" charset=\"utf-8\"></script>\n"
   ]
  },
  {
   "cell_type": "code",
   "execution_count": 16,
   "metadata": {},
   "outputs": [
    {
     "data": {
      "text/markdown": [
       "<blockquote class=\"twitter-tweet\" data-lang=\"en\"><p lang=\"en\" dir=\"ltr\">5000+ total users, 600+ active at 8PM PST on <a href=\"https://twitter.com/BerkeleyDataSci?ref_src=twsrc%5Etfw\">@BerkeleyDataSci</a> JupyterHub :) I wonder if this is the largest single JupyterHub running? <a href=\"https://twitter.com/ProjectJupyter?ref_src=twsrc%5Etfw\">@ProjectJupyter</a> <a href=\"https://t.co/haH3aFPJ87\">pic.twitter.com/haH3aFPJ87</a></p>&mdash; Yuvi Panda (@yuvipanda) <a href=\"https://twitter.com/yuvipanda/status/956381252428288000?ref_src=twsrc%5Etfw\">January 25, 2018</a></blockquote>\n",
       "<script async src=\"https://platform.twitter.com/widgets.js\" charset=\"utf-8\"></script>"
      ],
      "text/plain": [
       "<IPython.core.display.Markdown object>"
      ]
     },
     "metadata": {},
     "output_type": "display_data"
    }
   ],
   "source": [
    "<blockquote class=\"twitter-tweet\" data-lang=\"en\"><p lang=\"en\" dir=\"ltr\">5000+ total users, 600+ active at 8PM PST on <a href=\"https://twitter.com/BerkeleyDataSci?ref_src=twsrc%5Etfw\">@BerkeleyDataSci</a> JupyterHub :) I wonder if this is the largest single JupyterHub running? <a href=\"https://twitter.com/ProjectJupyter?ref_src=twsrc%5Etfw\">@ProjectJupyter</a> <a href=\"https://t.co/haH3aFPJ87\">pic.twitter.com/haH3aFPJ87</a></p>&mdash; Yuvi Panda (@yuvipanda) <a href=\"https://twitter.com/yuvipanda/status/956381252428288000?ref_src=twsrc%5Etfw\">January 25, 2018</a></blockquote>\n",
    "<script async src=\"https://platform.twitter.com/widgets.js\" charset=\"utf-8\"></script>\n"
   ]
  },
  {
   "cell_type": "code",
   "execution_count": 19,
   "metadata": {},
   "outputs": [
    {
     "data": {
      "text/html": [
       "\n",
       "        <iframe\n",
       "            width=\"600\"\n",
       "            height=\"400\"\n",
       "            src=\"https://www.cambridgenetwork.co.uk/news/engineering-dept-open-source-azure-service/\"\n",
       "            frameborder=\"0\"\n",
       "            allowfullscreen\n",
       "        ></iframe>\n",
       "        "
      ],
      "text/plain": [
       "<IPython.lib.display.IFrame at 0x1129a73c8>"
      ]
     },
     "metadata": {},
     "output_type": "display_data"
    }
   ],
   "source": [
    "https://www.cambridgenetwork.co.uk/news/engineering-dept-open-source-azure-service/"
   ]
  },
  {
   "cell_type": "code",
   "execution_count": 17,
   "metadata": {},
   "outputs": [
    {
     "data": {
      "text/html": [
       "\n",
       "        <iframe\n",
       "            width=\"600\"\n",
       "            height=\"400\"\n",
       "            src=\"http://www.fast.ai/\"\n",
       "            frameborder=\"0\"\n",
       "            allowfullscreen\n",
       "        ></iframe>\n",
       "        "
      ],
      "text/plain": [
       "<IPython.lib.display.IFrame at 0x1129a7ac8>"
      ]
     },
     "metadata": {},
     "output_type": "display_data"
    }
   ],
   "source": [
    "http://www.fast.ai/"
   ]
  },
  {
   "cell_type": "code",
   "execution_count": 18,
   "metadata": {},
   "outputs": [
    {
     "data": {
      "text/html": [
       "\n",
       "        <iframe\n",
       "            width=\"600\"\n",
       "            height=\"400\"\n",
       "            src=\"https://medium.com/plata/posting-jupyter-notebooks-in-medium-19c49847e7fb\"\n",
       "            frameborder=\"0\"\n",
       "            allowfullscreen\n",
       "        ></iframe>\n",
       "        "
      ],
      "text/plain": [
       "<IPython.lib.display.IFrame at 0x1129a7710>"
      ]
     },
     "metadata": {},
     "output_type": "display_data"
    }
   ],
   "source": [
    "https://medium.com/plata/posting-jupyter-notebooks-in-medium-19c49847e7fb"
   ]
  }
 ],
 "metadata": {
  "kernelspec": {
   "display_name": "p6",
   "language": "python",
   "name": "other-env"
  },
  "language_info": {
   "codemirror_mode": {
    "name": "ipython",
    "version": 3
   },
   "file_extension": ".py",
   "mimetype": "text/x-python",
   "name": "python",
   "nbconvert_exporter": "python",
   "pygments_lexer": "ipython3",
   "version": "3.6.3"
  }
 },
 "nbformat": 4,
 "nbformat_minor": 2
}
